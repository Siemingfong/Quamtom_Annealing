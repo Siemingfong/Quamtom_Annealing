{
 "cells": [
  {
   "cell_type": "code",
   "execution_count": 2,
   "metadata": {},
   "outputs": [],
   "source": [
    "import numpy as np\n",
    "import pandas as pd\n",
    "import yfinance as yf\n",
    "from pyqubo import Array\n",
    "import neal\n",
    "import matplotlib.pyplot as plt\n",
    "import requests"
   ]
  },
  {
   "cell_type": "code",
   "execution_count": 1,
   "metadata": {},
   "outputs": [],
   "source": [
    "def download_data(features, start, end):\n",
    "    data = yf.download(features, start=start, end=end)\n",
    "    data = data.loc[:,('Adj Close', slice(None))]\n",
    "    data.columns = features \n",
    "    return data\n",
    "\n",
    "def calculate_spearman_correlations_with_last_column(data):\n",
    "    returns = data.pct_change()\n",
    "\n",
    "    # Fill NaN values with 0\n",
    "    returns_filled = returns.fillna(0)\n",
    "\n",
    "    # Extract the last column for comparison\n",
    "    last_column = returns_filled.iloc[:, -1]\n",
    "\n",
    "    # Initialize an empty list to store correlations\n",
    "    correlations = []\n",
    "\n",
    "    # Calculate Spearman correlations with the last column\n",
    "    for column in returns_filled.columns[:-1]:  # Exclude the last column itself\n",
    "        correlation = returns_filled[column].corr(last_column, method='spearman')\n",
    "        # Check if the correlation is NaN and replace it with 0\n",
    "        if pd.isna(correlation):\n",
    "            correlation = 0\n",
    "        correlations.append(correlation)\n",
    "\n",
    "    # Return the correlations list\n",
    "    return correlations\n",
    "\n",
    "\n",
    "def get_latest_data(data):\n",
    "    return data.iloc[-1].tolist()  # Get the last row of the dataframe, which has the latest prices\n"
   ]
  },
  {
   "cell_type": "code",
   "execution_count": 3,
   "metadata": {},
   "outputs": [],
   "source": [
    "class PortfolioQUBO_v1(object):\n",
    "    def __init__(self, features, C_M, A, theta1, theta2, theta3):\n",
    "        self.theta1 = theta1  # Weight for the return objective\n",
    "        self.theta2 = theta2  # Weight for the risk (correlation) objective\n",
    "        self.theta3 = theta3  # Weight for the budget constraint\n",
    "        self.features = len(features)\n",
    "        self.C_M = C_M  # Correlation matrix\n",
    "        self.A = A      # features value or expected returns\n",
    "        self.array = Array.create('features', shape=(self.features), vartype='BINARY')\n",
    "\n",
    "    def Last(self):\n",
    "        # Adjust this method to use correlations and/or returns\n",
    "        # Example: Maximize returns based on expected returns (self.A)\n",
    "        H = sum(-self.A[i] * self.array[i] for i in range(self.features))\n",
    "        return self.theta1 * H\n",
    "\n",
    "    def Risk(self):\n",
    "        # Objective: Minimize risk (as measured by portfolio variance)\n",
    "        H = sum(self.C_M.iloc[i, j] * self.array[i] * self.array[j] for i in range(self.features) for j in range(self.features))\n",
    "        return self.theta2 * H\n"
   ]
  },
  {
   "cell_type": "code",
   "execution_count": 5,
   "metadata": {},
   "outputs": [
    {
     "name": "stdout",
     "output_type": "stream",
     "text": [
      "C_M: [-0.21162427371385173, 0.0, 0.3188735372407557, 0.3158530842493006, 0.3197365238097428, 0.31671607081828773, 0.3520985201467614, -0.19650208717244674, 0.3533930000002421, -0.1591184708947136, -0.23336098087344442, 0, 0.08333333333333334, -0.21162427371385173, -0.21162427371385173, -0.21162427371385173, 0.08333333333333334, -0.21162427371385173, -0.22400773509428723, -0.08394154019223252, 0.08333333333333334, 0, 0, 0, 0, 0, 0.14433756729740646, 0, 0, 0, 0, 0, 0, 0, -0.14433756729740646, 0, 0, 0, 0, 0, 0, 0, 0, 0, -0.08459280110666133, -0.0504401384429554, -0.0545544725589981, -0.0504401384429554, -0.26361345574227146, -0.26253967384515425, 0, -0.2603921100509199, 0, 0, 0, 0, -0.26361345574227146, -0.26253967384515425, 0, -0.2603921100509199, -0.26361345574227146, -0.26253967384515425, 0, -0.2603921100509199, -0.26361345574227146, -0.26253967384515425, 0, -0.2603921100509199]\n",
      "A: [1.0, 1.0, 1.9376, 1.9376, 1362.5881076171877, 1362.5881076171877, 1.9376, 0.0, 1362.5881076171877, 0.0, 1.0, 0.0, 0.0, 1.0, 1.0, 1.0, 0.0, 1.0, 1.0, 1.0, 0.0, 0.0, 0.0, 0.0, 0.0, 0.0, 0.0, 0.0, 0.0, 0.0, 0.0, 0.0, 0.0, 0.0, 1.0, 0.0, 0.0, 0.0, 0.0, 0.0, 0.0, 1.0, 0.0, 0.0, 0.0, 0.0, 0.0, 0.0, 0.0, 0.0, 0.0, 0.0, 0.0, 0.0, 0.0, 0.0, 0.0, 0.0, 0.0, 0.0, 0.0, 0.0, 0.0, 0.0, 0.0, 0.0, 0.0, 0.0, 0.0]\n"
     ]
    },
    {
     "name": "stderr",
     "output_type": "stream",
     "text": [
      "/Library/Frameworks/Python.framework/Versions/3.8/lib/python3.8/site-packages/scipy/stats/_stats_py.py:4916: ConstantInputWarning: An input array is constant; the correlation coefficient is not defined.\n",
      "  warnings.warn(stats.ConstantInputWarning(warn_msg))\n"
     ]
    },
    {
     "ename": "AttributeError",
     "evalue": "'list' object has no attribute 'iloc'",
     "output_type": "error",
     "traceback": [
      "\u001b[0;31m---------------------------------------------------------------------------\u001b[0m",
      "\u001b[0;31mAttributeError\u001b[0m                            Traceback (most recent call last)",
      "\u001b[0;32m<ipython-input-5-1c7b1a681083>\u001b[0m in \u001b[0;36m<module>\u001b[0;34m\u001b[0m\n\u001b[1;32m     21\u001b[0m \u001b[0;31m# Create QUBO object and compile\u001b[0m\u001b[0;34m\u001b[0m\u001b[0;34m\u001b[0m\u001b[0;34m\u001b[0m\u001b[0m\n\u001b[1;32m     22\u001b[0m \u001b[0mportfolio_qubo\u001b[0m \u001b[0;34m=\u001b[0m \u001b[0mPortfolioQUBO_v1\u001b[0m\u001b[0;34m(\u001b[0m\u001b[0mdata\u001b[0m\u001b[0;34m.\u001b[0m\u001b[0mcolumns\u001b[0m\u001b[0;34m.\u001b[0m\u001b[0mtolist\u001b[0m\u001b[0;34m(\u001b[0m\u001b[0;34m)\u001b[0m\u001b[0;34m,\u001b[0m \u001b[0mC_M\u001b[0m\u001b[0;34m,\u001b[0m \u001b[0mA\u001b[0m\u001b[0;34m,\u001b[0m \u001b[0mtheta1\u001b[0m\u001b[0;34m,\u001b[0m \u001b[0mtheta2\u001b[0m\u001b[0;34m,\u001b[0m \u001b[0mtheta3\u001b[0m\u001b[0;34m)\u001b[0m\u001b[0;34m\u001b[0m\u001b[0;34m\u001b[0m\u001b[0m\n\u001b[0;32m---> 23\u001b[0;31m \u001b[0mobjective\u001b[0m \u001b[0;34m=\u001b[0m \u001b[0mportfolio_qubo\u001b[0m\u001b[0;34m.\u001b[0m\u001b[0mRisk\u001b[0m\u001b[0;34m(\u001b[0m\u001b[0;34m)\u001b[0m\u001b[0;34m\u001b[0m\u001b[0;34m\u001b[0m\u001b[0m\n\u001b[0m\u001b[1;32m     24\u001b[0m \u001b[0mprint\u001b[0m\u001b[0;34m(\u001b[0m\u001b[0;34m\"Objective:\"\u001b[0m\u001b[0;34m,\u001b[0m \u001b[0mobjective\u001b[0m\u001b[0;34m)\u001b[0m\u001b[0;34m\u001b[0m\u001b[0;34m\u001b[0m\u001b[0m\n\u001b[1;32m     25\u001b[0m \u001b[0mmodel\u001b[0m \u001b[0;34m=\u001b[0m \u001b[0mobjective\u001b[0m\u001b[0;34m.\u001b[0m\u001b[0mcompile\u001b[0m\u001b[0;34m(\u001b[0m\u001b[0;34m)\u001b[0m\u001b[0;34m\u001b[0m\u001b[0;34m\u001b[0m\u001b[0m\n",
      "\u001b[0;32m<ipython-input-3-b389af3daac6>\u001b[0m in \u001b[0;36mRisk\u001b[0;34m(self)\u001b[0m\n\u001b[1;32m     17\u001b[0m     \u001b[0;32mdef\u001b[0m \u001b[0mRisk\u001b[0m\u001b[0;34m(\u001b[0m\u001b[0mself\u001b[0m\u001b[0;34m)\u001b[0m\u001b[0;34m:\u001b[0m\u001b[0;34m\u001b[0m\u001b[0;34m\u001b[0m\u001b[0m\n\u001b[1;32m     18\u001b[0m         \u001b[0;31m# Objective: Minimize risk (as measured by portfolio variance)\u001b[0m\u001b[0;34m\u001b[0m\u001b[0;34m\u001b[0m\u001b[0;34m\u001b[0m\u001b[0m\n\u001b[0;32m---> 19\u001b[0;31m         \u001b[0mH\u001b[0m \u001b[0;34m=\u001b[0m \u001b[0msum\u001b[0m\u001b[0;34m(\u001b[0m\u001b[0mself\u001b[0m\u001b[0;34m.\u001b[0m\u001b[0mC_M\u001b[0m\u001b[0;34m.\u001b[0m\u001b[0miloc\u001b[0m\u001b[0;34m[\u001b[0m\u001b[0mi\u001b[0m\u001b[0;34m,\u001b[0m \u001b[0mj\u001b[0m\u001b[0;34m]\u001b[0m \u001b[0;34m*\u001b[0m \u001b[0mself\u001b[0m\u001b[0;34m.\u001b[0m\u001b[0marray\u001b[0m\u001b[0;34m[\u001b[0m\u001b[0mi\u001b[0m\u001b[0;34m]\u001b[0m \u001b[0;34m*\u001b[0m \u001b[0mself\u001b[0m\u001b[0;34m.\u001b[0m\u001b[0marray\u001b[0m\u001b[0;34m[\u001b[0m\u001b[0mj\u001b[0m\u001b[0;34m]\u001b[0m \u001b[0;32mfor\u001b[0m \u001b[0mi\u001b[0m \u001b[0;32min\u001b[0m \u001b[0mrange\u001b[0m\u001b[0;34m(\u001b[0m\u001b[0mself\u001b[0m\u001b[0;34m.\u001b[0m\u001b[0mfeatures\u001b[0m\u001b[0;34m)\u001b[0m \u001b[0;32mfor\u001b[0m \u001b[0mj\u001b[0m \u001b[0;32min\u001b[0m \u001b[0mrange\u001b[0m\u001b[0;34m(\u001b[0m\u001b[0mself\u001b[0m\u001b[0;34m.\u001b[0m\u001b[0mfeatures\u001b[0m\u001b[0;34m)\u001b[0m\u001b[0;34m)\u001b[0m\u001b[0;34m\u001b[0m\u001b[0;34m\u001b[0m\u001b[0m\n\u001b[0m\u001b[1;32m     20\u001b[0m         \u001b[0;32mreturn\u001b[0m \u001b[0mself\u001b[0m\u001b[0;34m.\u001b[0m\u001b[0mtheta2\u001b[0m \u001b[0;34m*\u001b[0m \u001b[0mH\u001b[0m\u001b[0;34m\u001b[0m\u001b[0;34m\u001b[0m\u001b[0m\n",
      "\u001b[0;32m<ipython-input-3-b389af3daac6>\u001b[0m in \u001b[0;36m<genexpr>\u001b[0;34m(.0)\u001b[0m\n\u001b[1;32m     17\u001b[0m     \u001b[0;32mdef\u001b[0m \u001b[0mRisk\u001b[0m\u001b[0;34m(\u001b[0m\u001b[0mself\u001b[0m\u001b[0;34m)\u001b[0m\u001b[0;34m:\u001b[0m\u001b[0;34m\u001b[0m\u001b[0;34m\u001b[0m\u001b[0m\n\u001b[1;32m     18\u001b[0m         \u001b[0;31m# Objective: Minimize risk (as measured by portfolio variance)\u001b[0m\u001b[0;34m\u001b[0m\u001b[0;34m\u001b[0m\u001b[0;34m\u001b[0m\u001b[0m\n\u001b[0;32m---> 19\u001b[0;31m         \u001b[0mH\u001b[0m \u001b[0;34m=\u001b[0m \u001b[0msum\u001b[0m\u001b[0;34m(\u001b[0m\u001b[0mself\u001b[0m\u001b[0;34m.\u001b[0m\u001b[0mC_M\u001b[0m\u001b[0;34m.\u001b[0m\u001b[0miloc\u001b[0m\u001b[0;34m[\u001b[0m\u001b[0mi\u001b[0m\u001b[0;34m,\u001b[0m \u001b[0mj\u001b[0m\u001b[0;34m]\u001b[0m \u001b[0;34m*\u001b[0m \u001b[0mself\u001b[0m\u001b[0;34m.\u001b[0m\u001b[0marray\u001b[0m\u001b[0;34m[\u001b[0m\u001b[0mi\u001b[0m\u001b[0;34m]\u001b[0m \u001b[0;34m*\u001b[0m \u001b[0mself\u001b[0m\u001b[0;34m.\u001b[0m\u001b[0marray\u001b[0m\u001b[0;34m[\u001b[0m\u001b[0mj\u001b[0m\u001b[0;34m]\u001b[0m \u001b[0;32mfor\u001b[0m \u001b[0mi\u001b[0m \u001b[0;32min\u001b[0m \u001b[0mrange\u001b[0m\u001b[0;34m(\u001b[0m\u001b[0mself\u001b[0m\u001b[0;34m.\u001b[0m\u001b[0mfeatures\u001b[0m\u001b[0;34m)\u001b[0m \u001b[0;32mfor\u001b[0m \u001b[0mj\u001b[0m \u001b[0;32min\u001b[0m \u001b[0mrange\u001b[0m\u001b[0;34m(\u001b[0m\u001b[0mself\u001b[0m\u001b[0;34m.\u001b[0m\u001b[0mfeatures\u001b[0m\u001b[0;34m)\u001b[0m\u001b[0;34m)\u001b[0m\u001b[0;34m\u001b[0m\u001b[0;34m\u001b[0m\u001b[0m\n\u001b[0m\u001b[1;32m     20\u001b[0m         \u001b[0;32mreturn\u001b[0m \u001b[0mself\u001b[0m\u001b[0;34m.\u001b[0m\u001b[0mtheta2\u001b[0m \u001b[0;34m*\u001b[0m \u001b[0mH\u001b[0m\u001b[0;34m\u001b[0m\u001b[0;34m\u001b[0m\u001b[0m\n",
      "\u001b[0;31mAttributeError\u001b[0m: 'list' object has no attribute 'iloc'"
     ]
    }
   ],
   "source": [
    "# Importing necessary libraries\n",
    "import pandas as pd\n",
    "\n",
    "# Reading data from the new CSV file\n",
    "file_path = '../data_p/quantum_data.address_class4.csv'\n",
    "data = pd.read_csv(file_path)\n",
    "\n",
    "# Assuming the CSV contains columns for features and their historical prices\n",
    "# We will process this data similarly to how the original data was processed\n",
    "\n",
    "# Calculate covariance matrix, and latest data of rows\n",
    "C_M = calculate_spearman_correlations_with_last_column(data)\n",
    "print(\"C_M:\", C_M)\n",
    "A = get_latest_data(data)\n",
    "print(\"A:\", A)\n",
    "\n",
    "# Define other parameters\n",
    "B = 1000\n",
    "theta1, theta2, theta3 = 0.5, 0.3, 0.2\n",
    "\n",
    "# Create QUBO object and compile\n",
    "portfolio_qubo = PortfolioQUBO_v1(data.columns.tolist(), C_M, A, theta1, theta2, theta3)\n",
    "objective = portfolio_qubo.Risk()\n",
    "print(\"Objective:\", objective)\n",
    "model = objective.compile()\n",
    "print(\"Model:\", model)\n",
    "qubo, offset = model.to_qubo()\n",
    "print(\"QUBO:\", qubo)\n",
    "\n",
    "# Solve QUBO using Simulated Annealing Sampler\n",
    "sampler = neal.SimulatedAnnealingSampler()\n",
    "response = sampler.sample_qubo(qubo)\n",
    "\n",
    "# Print results\n",
    "for sample, energy in response.data(['sample', 'energy']):\n",
    "    print(sample, energy)\n"
   ]
  },
  {
   "cell_type": "markdown",
   "metadata": {},
   "source": []
  },
  {
   "cell_type": "code",
   "execution_count": null,
   "metadata": {},
   "outputs": [],
   "source": [
    "# PortfolioQUBO_v2_nAssets and Return constraints are added to the PortfolioQUBO_v2\n",
    "class PortfolioQUBO_v2(object):\n",
    "    def __init__(self, assets, Sigma, n, Mu, R_dot, lambda1, lambda2, lambda3):        \n",
    "        self.lambda1 = lambda1\n",
    "        self.lambda2 = lambda2\n",
    "        self.lambda3 = lambda3\n",
    "        self.assets = assets\n",
    "        self.Sigma = Sigma  \n",
    "        self.n = n\n",
    "        self.Mu = Mu\n",
    "        self.R_dot = R_dot\n",
    "        self.array = Array.create('asset', shape=(assets), vartype='BINARY')\n",
    "\n",
    "    def Risk(self):\n",
    "        \"\"\"Minimize the portfolio variance.\"\"\"\n",
    "        H = sum(self.Sigma[i][j] * self.array[i] * self.array[j] for i in range(self.assets) for j in range(self.assets))      \n",
    "        return self.lambda1 * H\n",
    "  \n",
    "    def nAssets(self):\n",
    "        \"\"\"Ensure the portfolio has exactly n assets.\"\"\"\n",
    "        H = sum(self.array[i] for i in range(self.assets))\n",
    "        return self.lambda2 * (H - self.n)**2\n",
    "    \n",
    "    def Return(self):\n",
    "        \"\"\"Ensure the portfolio has an expected return close to R_dot.\"\"\"\n",
    "        H = sum(self.Mu[i] * self.array[i] for i in range(self.assets))\n",
    "        return self.lambda3 * (H - self.R_dot)**2\n"
   ]
  },
  {
   "cell_type": "code",
   "execution_count": null,
   "metadata": {},
   "outputs": [],
   "source": [
    "# multifactor QUBO\n",
    "class fm3_QUBO(object):\n",
    "    def __init__(self, assets, SR, Cov, A, nbits, TF, theta1, theta2, theta3):\n",
    "        self.theta1 = theta1\n",
    "        self.theta2 = theta2\n",
    "        self.theta3 = theta3\n",
    "        self.assets = len(assets)\n",
    "        self.SR = SR  \n",
    "        self.Cov = Cov\n",
    "        self.A = A\n",
    "        self.nbits = nbits\n",
    "        self.TF = TF\n",
    "        self.array = Array.create('asset', shape=(self.assets, nbits), vartype='BINARY')\n",
    "        \n",
    "    def Return(self):\n",
    "        H = sum(-self.SR[i] * sum(self.array[i][s] * 2**s for s in range(self.nbits)) for i in range(self.assets))\n",
    "        return self.theta1 * H\n",
    "        \n",
    "    def Risk(self):\n",
    "        H = 0\n",
    "        for i in range(self.assets):\n",
    "            for j in range(i, self.assets):\n",
    "                for si in range(self.nbits):\n",
    "                    for sj in range(si + 1, self.nbits):\n",
    "                        H += self.Cov[i][j] * self.array[i][si] * self.array[j][sj]\n",
    "        return self.theta2 * H\n",
    "  \n",
    "    def Budget(self):\n",
    "        H = sum(sum(self.array[i][s] * 2**s for s in range(self.nbits)) for i in range(self.assets))\n",
    "        return self.theta3 * (H - self.TF)**2\n",
    "\n",
    "    \n"
   ]
  },
  {
   "cell_type": "code",
   "execution_count": null,
   "metadata": {},
   "outputs": [],
   "source": [
    "# PortfolioQUBO_v2 with multifactor \n",
    "class PortfolioQUBO_v2_multifactor(object):\n",
    "    def __init__(self, assets, Sigma, n, Mu, R_dot, lambda1, lambda2, lambda3):        \n",
    "        self.lambda1 = lambda1\n",
    "        self.lambda2 = lambda2\n",
    "        self.lambda3 = lambda3\n",
    "        self.assets = assets\n",
    "        self.Sigma = Sigma  \n",
    "        self.nbits = n\n",
    "        self.Mu = Mu\n",
    "        self.R_dot = R_dot\n",
    "        self.array = Array.create('asset', shape=(assets,self.nbits), vartype='BINARY')\n",
    "\n",
    "    def Risk(self):\n",
    "        \"\"\"Minimize the portfolio variance.\"\"\"\n",
    "        H = 0\n",
    "        for i in range(self.assets):\n",
    "            for j in range(i, self.assets):\n",
    "                for si in range(self.nbits):\n",
    "                    for sj in range(si + 1, self.nbits):\n",
    "                        H += self.Sigma[i][j] * self.array[i][si] * self.array[j][sj]\n",
    "        return self.lambda1 * H\n",
    "\n",
    "    def Return(self):\n",
    "        \"\"\"Ensure the portfolio has an expected return close to R_dot.\"\"\"  \n",
    "        H = sum(self.Mu[i]*sum(self.array[i][s] * 2**(s) for s in range(self.nbits)) for i in range(self.assets))      \n",
    "        return self.lambda3*(H - self.R_dot*(2**(self.nbits+1)-1))**2"
   ]
  },
  {
   "cell_type": "code",
   "execution_count": null,
   "metadata": {},
   "outputs": [],
   "source": [
    "# Fetch S&P 500 tickers from Wikipedia\n",
    "url = \"https://en.wikipedia.org/wiki/List_of_S%26P_500_companies\"\n",
    "response = requests.get(url)\n",
    "\n",
    "# Use pandas read_html to parse the website\n",
    "table = pd.read_html(response.text)\n",
    "df = table[0]\n",
    "tickers = df['Symbol'].tolist()"
   ]
  },
  {
   "cell_type": "code",
   "execution_count": null,
   "metadata": {},
   "outputs": [],
   "source": [
    "def download_and_organize_data(assets, start_date, end_date):\n",
    "    data_dict = {}\n",
    "    failed_tickers = []\n",
    "    successful_tickers = []\n",
    "\n",
    "    for ticker in assets:\n",
    "        try:\n",
    "            # Attempt to download the data\n",
    "            data = yf.download(ticker, start=start_date, end=end_date)\n",
    "            if not data.empty:  # Ensure downloaded data is not empty\n",
    "                successful_tickers.append(ticker)\n",
    "                data_dict[ticker] = data['Adj Close']\n",
    "            else:\n",
    "                failed_tickers.append(ticker)\n",
    "        except Exception as e:\n",
    "            # Log the failed tickers and their respective errors\n",
    "            print(f\"Failed to download data for {ticker}. Reason: {e}\")\n",
    "            failed_tickers.append(ticker)\n",
    "\n",
    "    # Organize the data\n",
    "    df = pd.concat(data_dict, axis=1)\n",
    "    df.columns = successful_tickers\n",
    "    return df, failed_tickers\n"
   ]
  },
  {
   "cell_type": "code",
   "execution_count": null,
   "metadata": {},
   "outputs": [],
   "source": [
    "start_date = \"2020-01-01\"\n",
    "end_date = \"2022-01-01\"\n",
    "data, failed_tickers = download_and_organize_data(tickers, start_date, end_date)\n",
    "\n",
    "print(\"Downloaded Data:\")\n",
    "print(data.head())  # Display the head of the successfully downloaded data\n",
    "print(\"\\nFailed to download data for:\", failed_tickers)\n"
   ]
  },
  {
   "cell_type": "code",
   "execution_count": null,
   "metadata": {},
   "outputs": [],
   "source": [
    "# Calculate expected returns, covariance matrix, and the latest prices\n",
    "E_R = calculate_expected_returns(data)\n",
    "Cov = calculate_covariance_matrix(data)\n",
    "A = get_latest_prices(data)"
   ]
  },
  {
   "cell_type": "code",
   "execution_count": null,
   "metadata": {},
   "outputs": [],
   "source": []
  }
 ],
 "metadata": {
  "kernelspec": {
   "display_name": "Python 3",
   "language": "python",
   "name": "python3"
  },
  "language_info": {
   "codemirror_mode": {
    "name": "ipython",
    "version": 3
   },
   "file_extension": ".py",
   "mimetype": "text/x-python",
   "name": "python",
   "nbconvert_exporter": "python",
   "pygments_lexer": "ipython3",
   "version": "3.8.2"
  }
 },
 "nbformat": 4,
 "nbformat_minor": 2
}
