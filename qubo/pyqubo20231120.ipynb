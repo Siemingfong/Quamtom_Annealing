{
 "cells": [
  {
   "cell_type": "markdown",
   "metadata": {},
   "source": [
    "Copyright (C) 2023 Sean Ming-Fong Sie <seansie07@gmail.com>\n",
    "\n",
    "This work is licensed under the Creative Commons Attribution-NonCommercial\n",
    "4.0 International License. To view a copy of this license, visit\n",
    "http://creativecommons.org/licenses/by-nc/4.0/ or send a letter to\n",
    "Creative Commons, PO Box 1866, Mountain View, CA 94042, USA."
   ]
  },
  {
   "cell_type": "code",
   "execution_count": 7,
   "metadata": {},
   "outputs": [
    {
     "name": "stdout",
     "output_type": "stream",
     "text": [
      "QUBO Hamiltonian: ((Spin('s4') + (7.000000 * Spin('s3')) + (4.000000 * Spin('s1')) + (2.000000 * Spin('s2'))) * (Spin('s4') + (7.000000 * Spin('s3')) + (4.000000 * Spin('s1')) + (2.000000 * Spin('s2'))))\n",
      "Model: <cpp_pyqubo.Model object at 0x7fbd60686c70>\n",
      "QUBO Result: {('s1', 's1'): -160.0, ('s4', 's2'): 16.0, ('s3', 's1'): 224.0, ('s2', 's2'): -96.0, ('s4', 's1'): 32.0, ('s1', 's2'): 64.0, ('s3', 's2'): 112.0, ('s3', 's3'): -196.0, ('s4', 's4'): -52.0, ('s4', 's3'): 56.0}\n",
      "Offset: 196.0\n"
     ]
    }
   ],
   "source": [
    "from pyqubo import Spin\n",
    "# set S = {4, 2, 7, 1}\n",
    "s1, s2, s3, s4 = Spin(\"s1\"), Spin(\"s2\"), Spin(\"s3\"), Spin(\"s4\")\n",
    "# Quadratic Unconstrained Binary Optimization（QUBO）for **2 as Hamiltonian \n",
    "H = (4*s1 + 2*s2 + 7*s3 + s4)**2\n",
    "print(\"QUBO Hamiltonian:\",H)\n",
    "# Compile Quantum Computer or Classical Binary Optimization Solver as Hamiltonian to a model\n",
    "model = H.compile()\n",
    "print(\"Model:\", model)\n",
    "# Convert QUBO to Ising Hamiltonian, and get the offset as constant\n",
    "qubo, offset = model.to_qubo()\n",
    "print(\"QUBO Result:\",qubo)\n",
    "print(\"Offset:\", offset)"
   ]
  },
  {
   "cell_type": "code",
   "execution_count": 8,
   "metadata": {},
   "outputs": [
    {
     "name": "stdout",
     "output_type": "stream",
     "text": [
      "Sampler: <dwave.samplers.sa.sampler.SimulatedAnnealingSampler object at 0x7fbd0014deb0>\n",
      "Binary Quadratic Model: BinaryQuadraticModel({'s4': -52.0, 's2': -96.0, 's3': -196.0, 's1': -160.0}, {('s2', 's4'): 16.0, ('s3', 's4'): 56.0, ('s3', 's2'): 112.0, ('s1', 's4'): 32.0, ('s1', 's2'): 64.0, ('s1', 's3'): 224.0}, 196.0, 'BINARY')\n",
      "Sample Set:   s1 s2 s3 s4 energy num_oc.\n",
      "0  1  1  0  1    0.0       1\n",
      "1  1  1  0  1    0.0       1\n",
      "2  1  1  0  1    0.0       1\n",
      "3  0  0  1  0    0.0       1\n",
      "4  1  1  0  1    0.0       1\n",
      "5  1  1  0  1    0.0       1\n",
      "6  1  1  0  1    0.0       1\n",
      "7  1  1  0  1    0.0       1\n",
      "8  0  0  1  0    0.0       1\n",
      "9  1  1  0  1    0.0       1\n",
      "['BINARY', 10 rows, 10 samples, 4 variables]\n",
      "Decoded Sample: [DecodedSolution({s3:1, s4:0, s2:0, s1:0}, energy=0.000000), DecodedSolution({s1:0, s2:0, s4:0, s3:1}, energy=0.000000), DecodedSolution({s3:0, s4:1, s2:1, s1:1}, energy=0.000000), DecodedSolution({s3:0, s4:1, s2:1, s1:1}, energy=0.000000), DecodedSolution({s1:1, s2:1, s4:1, s3:0}, energy=0.000000), DecodedSolution({s1:1, s2:1, s4:1, s3:0}, energy=0.000000), DecodedSolution({s1:1, s2:1, s4:1, s3:0}, energy=0.000000), DecodedSolution({s1:1, s2:1, s4:1, s3:0}, energy=0.000000), DecodedSolution({s3:0, s4:1, s2:1, s1:1}, energy=0.000000), DecodedSolution({s3:0, s4:1, s2:1, s1:1}, energy=0.000000)]\n",
      "Best Sample: DecodedSolution({s3:1, s4:0, s2:0, s1:0}, energy=0.000000)\n",
      "Best Sample: {'s3': 1, 's4': 0, 's2': 0, 's1': 0}\n"
     ]
    }
   ],
   "source": [
    "import neal\n",
    "sampler = neal.SimulatedAnnealingSampler() # Simulated Annealing Sampler using D-Wave\n",
    "print(\"Sampler:\", sampler)\n",
    "bqm = model.to_bqm() # Convert QUBO to Binary Quadratic Model\n",
    "print(\"Binary Quadratic Model:\", bqm)\n",
    "sampleset = sampler.sample(bqm, num_reads=10) # Retrieve 10 samples\n",
    "print(\"Sample Set:\", sampleset)\n",
    "decoded_samples = model.decode_sampleset(sampleset) # Decode the sampleset\n",
    "print(\"Decoded Sample:\", decoded_samples)\n",
    "best_sample = min(decoded_samples, key=lambda x: x.energy) # Retrieve the best sample\n",
    "print(\"Best Sample:\", best_sample)\n",
    "best_sample.sample # doctest: +SKIP, Retrieve the best sample's value\n",
    "print(\"Best Sample:\", best_sample.sample)"
   ]
  },
  {
   "cell_type": "code",
   "execution_count": 14,
   "metadata": {},
   "outputs": [
    {
     "name": "stdout",
     "output_type": "stream",
     "text": [
      "QUBO Hamiltonian: (100.000000 + ((Binary('std_balance_usd') * Binary('class')) * 5.000000) + ((Binary('mean_balance_usd') * Binary('class')) * 9.000000) + ((Binary('mean_balance_usd') * Binary('std_balance_usd')) * 4.000000) + ((Binary('std_balance_btc') * Binary('class')) * 5.000000) + ((Binary('std_balance_btc') * Binary('std_balance_usd')) * 10.000000) + ((Binary('std_balance_btc') * Binary('mean_balance_usd')) * 4.000000) + ((Binary('mean_balance_btc') * Binary('class')) * 9.000000) + ((Binary('mean_balance_btc') * Binary('std_balance_usd')) * 4.000000) + ((Binary('mean_balance_btc') * Binary('mean_balance_usd')) * 23.000000) + ((Binary('mean_balance_btc') * Binary('std_balance_btc')) * 4.000000) + ((Binary('total_received_usd') * Binary('class')) * 10.000000) + ((Binary('total_received_usd') * Binary('std_balance_usd')) * 7.000000) + ((Binary('total_received_usd') * Binary('mean_balance_usd')) * 20.000000) + ((Binary('total_received_usd') * Binary('std_balance_btc')) * 7.000000) + ((Binary('total_received_usd') * Binary('mean_balance_btc')) * 20.000000) + ((Binary('total_spent_usd') * Binary('class')) * 10.000000) + ((Binary('total_spent_usd') * Binary('std_balance_usd')) * 7.000000) + ((Binary('total_spent_usd') * Binary('mean_balance_usd')) * 20.000000) + ((Binary('total_spent_usd') * Binary('std_balance_btc')) * 7.000000) + ((Binary('total_spent_usd') * Binary('mean_balance_btc')) * 20.000000) + ((Binary('total_spent_usd') * Binary('total_received_usd')) * 23.000000) + ((Binary('total_received_btc') * Binary('class')) * 10.000000) + ((Binary('total_received_btc') * Binary('std_balance_usd')) * 6.000000) + ((Binary('total_received_btc') * Binary('mean_balance_usd')) * 21.000000) + ((Binary('total_received_btc') * Binary('std_balance_btc')) * 6.000000) + ((Binary('total_received_btc') * Binary('mean_balance_btc')) * 21.000000) + ((Binary('total_received_btc') * Binary('total_received_usd')) * 22.000000) + ((Binary('total_received_btc') * Binary('total_spent_usd')) * 22.000000) + ((Binary('total_spent_btc') * Binary('class')) * 10.000000) + ((Binary('total_spent_btc') * Binary('std_balance_usd')) * 6.000000) + ((Binary('total_spent_btc') * Binary('mean_balance_usd')) * 21.000000) + ((Binary('total_spent_btc') * Binary('std_balance_btc')) * 6.000000) + ((Binary('total_spent_btc') * Binary('mean_balance_btc')) * 21.000000) + ((Binary('total_spent_btc') * Binary('total_received_usd')) * 22.000000) + ((Binary('total_spent_btc') * Binary('total_spent_usd')) * 22.000000) + ((Binary('total_spent_btc') * Binary('total_received_btc')) * 23.000000) + ((Binary('total_days') * Binary('class')) * 0.000000) + ((Binary('total_days') * Binary('std_balance_usd')) * 0.000000) + ((Binary('total_days') * Binary('mean_balance_usd')) * 0.000000) + ((Binary('total_days') * Binary('std_balance_btc')) * 0.000000) + ((Binary('total_days') * Binary('mean_balance_btc')) * 0.000000) + ((Binary('total_days') * Binary('total_received_usd')) * 0.000000) + ((Binary('total_days') * Binary('total_spent_usd')) * 0.000000) + ((Binary('total_days') * Binary('total_received_btc')) * 0.000000) + ((Binary('total_days') * Binary('total_spent_btc')) * 0.000000) + (13.000000 * Binary('class')) + (10.000000 * Binary('std_balance_usd')) + (23.000000 * Binary('mean_balance_usd')) + (11.000000 * Binary('std_balance_btc')) + (23.000000 * Binary('mean_balance_btc')) + (23.000000 * Binary('total_received_usd')) + (23.000000 * Binary('total_spent_usd')) + (23.000000 * Binary('total_received_btc')) + (23.000000 * Binary('total_spent_btc')) + 0.000000 + (0.000000 * Binary('total_days')))\n",
      "Model: <cpp_pyqubo.Model object at 0x7fbd50d7dd30>\n",
      "QUBO Result: {('total_spent_usd', 'total_spent_btc'): 22.0, ('total_received_usd', 'total_received_btc'): 22.0, ('std_balance_btc', 'total_received_btc'): 6.0, ('std_balance_usd', 'std_balance_usd'): 10.0, ('class', 'mean_balance_usd'): 9.0, ('total_spent_btc', 'total_spent_btc'): 23.0, ('std_balance_usd', 'total_received_usd'): 7.0, ('class', 'mean_balance_btc'): 9.0, ('mean_balance_btc', 'total_spent_btc'): 21.0, ('std_balance_btc', 'total_spent_usd'): 7.0, ('std_balance_usd', 'mean_balance_btc'): 4.0, ('std_balance_usd', 'mean_balance_usd'): 4.0, ('mean_balance_btc', 'mean_balance_btc'): 23.0, ('mean_balance_usd', 'total_spent_usd'): 20.0, ('mean_balance_usd', 'mean_balance_btc'): 23.0, ('total_spent_usd', 'total_received_btc'): 22.0, ('class', 'std_balance_btc'): 5.0, ('std_balance_btc', 'total_received_usd'): 7.0, ('mean_balance_usd', 'total_received_usd'): 20.0, ('std_balance_usd', 'class'): 5.0, ('std_balance_usd', 'std_balance_btc'): 10.0, ('mean_balance_usd', 'mean_balance_usd'): 23.0, ('mean_balance_btc', 'total_received_btc'): 21.0, ('class', 'total_spent_btc'): 10.0, ('mean_balance_usd', 'total_spent_btc'): 21.0, ('total_received_usd', 'total_spent_btc'): 22.0, ('total_received_btc', 'total_spent_btc'): 23.0, ('class', 'class'): 13.0, ('std_balance_btc', 'mean_balance_btc'): 4.0, ('mean_balance_btc', 'total_received_usd'): 20.0, ('class', 'total_spent_usd'): 10.0, ('std_balance_btc', 'total_spent_btc'): 6.0, ('std_balance_usd', 'total_spent_btc'): 6.0, ('class', 'total_received_btc'): 10.0, ('class', 'total_received_usd'): 10.0, ('mean_balance_usd', 'total_received_btc'): 21.0, ('total_received_btc', 'total_received_btc'): 23.0, ('std_balance_usd', 'total_received_btc'): 6.0, ('std_balance_btc', 'std_balance_btc'): 11.0, ('std_balance_usd', 'total_spent_usd'): 7.0, ('total_spent_usd', 'total_spent_usd'): 23.0, ('total_received_usd', 'total_received_usd'): 23.0, ('mean_balance_btc', 'total_spent_usd'): 20.0, ('total_received_usd', 'total_spent_usd'): 23.0, ('mean_balance_usd', 'std_balance_btc'): 4.0}\n",
      "Offset: 100.0\n"
     ]
    }
   ],
   "source": [
    "import pandas as pd\n",
    "from pyqubo import Binary\n",
    "\n",
    "# 指定CSV檔案的路徑\n",
    "file_path = \"../data_p/data.address.csv\"\n",
    "\n",
    "# 使用pandas的read_csv函數讀取CSV檔案\n",
    "df = pd.read_csv(file_path)\n",
    "\n",
    "# 選擇要用於構建QUBO的列名，並且加上 class\n",
    "selected_columns = df.columns[1:10].tolist() + [\"class\"]\n",
    "\n",
    "# 從DataFrame中選擇所需的列\n",
    "selected_data = df[selected_columns].copy()\n",
    "\n",
    "# 預處理步驟\n",
    "# 例如，使用中位數進行二元化\n",
    "for col in selected_columns:\n",
    "    if selected_data[col].dtype != 'object':\n",
    "        median_val = selected_data[col].median()\n",
    "        selected_data[col] = selected_data[col].apply(lambda x: 1 if x > median_val else 0)\n",
    "\n",
    "# 創建QUBO模型\n",
    "qubo_model = 0\n",
    "for col in selected_columns:\n",
    "    qubo_model += sum(selected_data[col]) * Binary(col)\n",
    "\n",
    "# 添加特徵間的交互項（可選）\n",
    "for i in range(len(selected_columns)):\n",
    "    for j in range(i+1, len(selected_columns)):\n",
    "        col_i = selected_columns[i]\n",
    "        col_j = selected_columns[j]\n",
    "        qubo_model += Binary(col_i) * Binary(col_j) * sum(selected_data[col_i] * selected_data[col_j])\n",
    "\n",
    "# 添加偏移量以使所有特徵都為0時，Hamiltonian的值為100\n",
    "desired_offset = 100\n",
    "qubo_model += desired_offset\n",
    "\n",
    "# 編譯模型\n",
    "compiled_model = qubo_model.compile()\n",
    "\n",
    "# 轉換為QUBO並獲取偏移量\n",
    "qubo, offset = compiled_model.to_qubo()\n",
    "\n",
    "# 顯示結果\n",
    "print(\"QUBO Hamiltonian:\", qubo_model)\n",
    "print(\"Model:\", compiled_model)\n",
    "print(\"QUBO Result:\", qubo)\n",
    "print(\"Offset:\", offset)\n"
   ]
  },
  {
   "cell_type": "code",
   "execution_count": 15,
   "metadata": {},
   "outputs": [
    {
     "name": "stdout",
     "output_type": "stream",
     "text": [
      "Model: <cpp_pyqubo.Model object at 0x7fbd50a34eb0>\n",
      "Binary Quadratic Model: BinaryQuadraticModel({'std_balance_usd': 10.0, 'total_received_usd': 23.0, 'std_balance_btc': 11.0, 'total_received_btc': 23.0, 'total_spent_usd': 23.0, 'total_spent_btc': 23.0, 'mean_balance_usd': 23.0, 'total_days': 0.0, 'class': 13.0, 'mean_balance_btc': 23.0}, {('total_received_usd', 'std_balance_usd'): 7.0, ('std_balance_btc', 'std_balance_usd'): 10.0, ('std_balance_btc', 'total_received_usd'): 7.0, ('total_received_btc', 'std_balance_usd'): 6.0, ('total_received_btc', 'total_received_usd'): 22.0, ('total_received_btc', 'std_balance_btc'): 6.0, ('total_spent_usd', 'std_balance_usd'): 7.0, ('total_spent_usd', 'total_received_usd'): 23.0, ('total_spent_usd', 'std_balance_btc'): 7.0, ('total_spent_usd', 'total_received_btc'): 22.0, ('total_spent_btc', 'std_balance_usd'): 6.0, ('total_spent_btc', 'total_received_usd'): 22.0, ('total_spent_btc', 'std_balance_btc'): 6.0, ('total_spent_btc', 'total_received_btc'): 23.0, ('total_spent_btc', 'total_spent_usd'): 22.0, ('mean_balance_usd', 'std_balance_usd'): 4.0, ('mean_balance_usd', 'total_received_usd'): 20.0, ('mean_balance_usd', 'std_balance_btc'): 4.0, ('mean_balance_usd', 'total_received_btc'): 21.0, ('mean_balance_usd', 'total_spent_usd'): 20.0, ('mean_balance_usd', 'total_spent_btc'): 21.0, ('total_days', 'std_balance_usd'): 0.0, ('total_days', 'total_received_usd'): 0.0, ('total_days', 'std_balance_btc'): 0.0, ('total_days', 'total_received_btc'): 0.0, ('total_days', 'total_spent_usd'): 0.0, ('total_days', 'total_spent_btc'): 0.0, ('total_days', 'mean_balance_usd'): 0.0, ('class', 'std_balance_usd'): 5.0, ('class', 'total_received_usd'): 10.0, ('class', 'std_balance_btc'): 5.0, ('class', 'total_received_btc'): 10.0, ('class', 'total_spent_usd'): 10.0, ('class', 'total_spent_btc'): 10.0, ('class', 'mean_balance_usd'): 9.0, ('class', 'total_days'): 0.0, ('mean_balance_btc', 'std_balance_usd'): 4.0, ('mean_balance_btc', 'total_received_usd'): 20.0, ('mean_balance_btc', 'std_balance_btc'): 4.0, ('mean_balance_btc', 'total_received_btc'): 21.0, ('mean_balance_btc', 'total_spent_usd'): 20.0, ('mean_balance_btc', 'total_spent_btc'): 21.0, ('mean_balance_btc', 'mean_balance_usd'): 23.0, ('mean_balance_btc', 'total_days'): 0.0, ('mean_balance_btc', 'class'): 9.0}, 100.0, 'BINARY')\n",
      "Sampler: <dwave.samplers.sa.sampler.SimulatedAnnealingSampler object at 0x7fbd60687af0>\n",
      "Sample Set:   class mean_balance_btc mean_balance_usd ... total_spent_usd energy num_oc.\n",
      "0     0                0                0 ...               0  100.0       1\n",
      "1     0                0                0 ...               0  100.0       1\n",
      "2     0                0                0 ...               0  100.0       1\n",
      "3     0                0                0 ...               0  100.0       1\n",
      "4     0                0                0 ...               0  100.0       1\n",
      "5     0                0                0 ...               0  100.0       1\n",
      "6     0                0                0 ...               0  100.0       1\n",
      "7     0                0                0 ...               0  100.0       1\n",
      "8     0                0                0 ...               0  100.0       1\n",
      "9     0                0                0 ...               0  100.0       1\n",
      "['BINARY', 10 rows, 10 samples, 10 variables]\n",
      "Decoded Sample: [DecodedSolution({total_spent_usd:0, total_received_usd:0, total_received_btc:0, total_days:0, total_spent_btc:0, class:0, std_balance_btc:0, mean_balance_btc:0, std_balance_usd:0, mean_balance_usd:0}, energy=100.000000), DecodedSolution({mean_balance_usd:0, std_balance_usd:0, mean_balance_btc:0, std_balance_btc:0, class:0, total_spent_btc:0, total_days:0, total_received_btc:0, total_received_usd:0, total_spent_usd:0}, energy=100.000000), DecodedSolution({total_spent_usd:0, total_received_usd:0, total_received_btc:0, total_days:0, total_spent_btc:0, class:0, std_balance_btc:0, mean_balance_btc:0, std_balance_usd:0, mean_balance_usd:0}, energy=100.000000), DecodedSolution({total_spent_usd:0, total_received_usd:0, total_received_btc:0, total_days:0, total_spent_btc:0, class:0, std_balance_btc:0, mean_balance_btc:0, std_balance_usd:0, mean_balance_usd:0}, energy=100.000000), DecodedSolution({mean_balance_usd:0, std_balance_usd:0, mean_balance_btc:0, std_balance_btc:0, class:0, total_spent_btc:0, total_days:0, total_received_btc:0, total_received_usd:0, total_spent_usd:0}, energy=100.000000), DecodedSolution({mean_balance_usd:0, std_balance_usd:0, mean_balance_btc:0, std_balance_btc:0, class:0, total_spent_btc:0, total_days:1, total_received_btc:0, total_received_usd:0, total_spent_usd:0}, energy=100.000000), DecodedSolution({mean_balance_usd:0, std_balance_usd:0, mean_balance_btc:0, std_balance_btc:0, class:0, total_spent_btc:0, total_days:1, total_received_btc:0, total_received_usd:0, total_spent_usd:0}, energy=100.000000), DecodedSolution({mean_balance_usd:0, std_balance_usd:0, mean_balance_btc:0, std_balance_btc:0, class:0, total_spent_btc:0, total_days:1, total_received_btc:0, total_received_usd:0, total_spent_usd:0}, energy=100.000000), DecodedSolution({total_spent_usd:0, total_received_usd:0, total_received_btc:0, total_days:1, total_spent_btc:0, class:0, std_balance_btc:0, mean_balance_btc:0, std_balance_usd:0, mean_balance_usd:0}, energy=100.000000), DecodedSolution({total_spent_usd:0, total_received_usd:0, total_received_btc:0, total_days:1, total_spent_btc:0, class:0, std_balance_btc:0, mean_balance_btc:0, std_balance_usd:0, mean_balance_usd:0}, energy=100.000000)]\n",
      "Best Sample: DecodedSolution({total_spent_usd:0, total_received_usd:0, total_received_btc:0, total_days:0, total_spent_btc:0, class:0, std_balance_btc:0, mean_balance_btc:0, std_balance_usd:0, mean_balance_usd:0}, energy=100.000000)\n",
      "Best Sample: {'total_spent_usd': 0, 'total_received_usd': 0, 'total_received_btc': 0, 'total_days': 0, 'total_spent_btc': 0, 'class': 0, 'std_balance_btc': 0, 'mean_balance_btc': 0, 'std_balance_usd': 0, 'mean_balance_usd': 0}\n"
     ]
    }
   ],
   "source": [
    "import neal\n",
    "from pyqubo import Binary\n",
    "\n",
    "# 編譯為模型\n",
    "compiled_model = qubo_model.compile()\n",
    "print(\"Model:\", compiled_model)\n",
    "\n",
    "# 將 QUBO 轉換為二元二次模型\n",
    "bqm = compiled_model.to_bqm()\n",
    "print(\"Binary Quadratic Model:\", bqm)\n",
    "\n",
    "# 使用模擬退火算法\n",
    "sampler = neal.SimulatedAnnealingSampler()\n",
    "print(\"Sampler:\", sampler)\n",
    "\n",
    "# 採樣10次\n",
    "num_reads = 10\n",
    "sampleset = sampler.sample(bqm, num_reads=num_reads)\n",
    "print(\"Sample Set:\", sampleset)\n",
    "\n",
    "# 解碼採樣結果\n",
    "decoded_samples = compiled_model.decode_sampleset(sampleset)\n",
    "print(\"Decoded Sample:\", decoded_samples)\n",
    "\n",
    "# 尋找能量最低的樣本\n",
    "best_sample = min(decoded_samples, key=lambda x: x.energy)\n",
    "print(\"Best Sample:\", best_sample)\n",
    "\n",
    "# 獲取最佳樣本的值\n",
    "best_sample_value = best_sample.sample\n",
    "print(\"Best Sample:\", best_sample_value)\n"
   ]
  }
 ],
 "metadata": {
  "kernelspec": {
   "display_name": "Python 3",
   "language": "python",
   "name": "python3"
  },
  "language_info": {
   "codemirror_mode": {
    "name": "ipython",
    "version": 3
   },
   "file_extension": ".py",
   "mimetype": "text/x-python",
   "name": "python",
   "nbconvert_exporter": "python",
   "pygments_lexer": "ipython3",
   "version": "3.8.2"
  }
 },
 "nbformat": 4,
 "nbformat_minor": 4
}
